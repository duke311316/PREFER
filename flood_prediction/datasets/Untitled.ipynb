{
 "cells": [
  {
   "cell_type": "code",
   "execution_count": 39,
   "id": "9c6c79aa",
   "metadata": {},
   "outputs": [
    {
     "ename": "SyntaxError",
     "evalue": "invalid syntax (2150713276.py, line 56)",
     "output_type": "error",
     "traceback": [
      "\u001b[0;36m  Cell \u001b[0;32mIn[39], line 56\u001b[0;36m\u001b[0m\n\u001b[0;31m    mydate -= date.(days=1)\u001b[0m\n\u001b[0m                   ^\u001b[0m\n\u001b[0;31mSyntaxError\u001b[0m\u001b[0;31m:\u001b[0m invalid syntax\n"
     ]
    }
   ],
   "source": [
    "import argparse\n",
    "import requests\n",
    "import datetime\n",
    "import time\n",
    "import os\n",
    "import json\n",
    "\n",
    "# Initialize command line argument parser\n",
    "# parser = argparse.ArgumentParser(description='Download weather data.')\n",
    "# parser.add_argument('-a', '--apikey', default='1659a3c2f68449c499a3c2f68429c445', help='API key')\n",
    "# parser.add_argument('-s', '--stationId', default='KLALAFAY114', help='Station ID')\n",
    "# parser.add_argument('-v', '--verbose', action='store_true', help='Increase verbosity')\n",
    "# parser.add_argument('-f', '--output_file', help='Output filename')\n",
    "# parser.add_argument('-d', '--date', required=True, help='Start date in YYYYMMDD format')\n",
    "\n",
    "# args = parser.parse_args()\n",
    "\n",
    "# Set variables from command line arguments\n",
    "apikey = '1659a3c2f68449c499a3c2f68429c445'\n",
    "stationId = 'KLALAFAY22'\n",
    "verbose = True\n",
    "mydate = date.today().strftime('%Y%m%d')\n",
    "output_file = os.path.expanduser(f'~/Documents/2023_programs/weather/water_level_prediction/datasets/KLALAFAY/{stationId}-{mydate}')\n",
    "observation = {\"observations\":[]}\n",
    "stopdays = 180\n",
    "numreq = 0\n",
    "while True:\n",
    "    numreq += 1\n",
    "    if numreq > 25:\n",
    "        if verbose:\n",
    "            print(\"Sleeping for 60 seconds\")\n",
    "        time.sleep(60)\n",
    "        numreq = 0\n",
    "\n",
    "    response = requests.get(f\"https://api.weather.com/v2/pws/history/all?stationId={stationId}&format=json&units=e&date={mydate}&apiKey={apikey}\")\n",
    "\n",
    "    if response.status_code != 200:\n",
    "        print(f\"Error: HTTP {response.status_code}\")\n",
    "        break\n",
    "\n",
    "    myoutput = response.json()\n",
    "\n",
    "    if myoutput == observation:\n",
    "        if verbose:\n",
    "            print(f\"No data for date {mydate.strftime('%Y%m%d')}\")\n",
    "        stopdays -= 1\n",
    "        if stopdays == 0:\n",
    "            print(\"No more data, stopping.\")\n",
    "            break\n",
    "    else:\n",
    "        with open(output_file, 'a') as f:\n",
    "            f.write(json.dumps(myoutput) + '\\n')\n",
    "        if verbose:\n",
    "            print(f\"Data for date {mydate} written to {output_file}\")\n",
    "\n",
    "    mydate -= date.(days=1)"
   ]
  },
  {
   "cell_type": "code",
   "execution_count": null,
   "id": "2570c3c1",
   "metadata": {},
   "outputs": [],
   "source": []
  },
  {
   "cell_type": "code",
   "execution_count": null,
   "id": "6d3adbe7",
   "metadata": {},
   "outputs": [],
   "source": []
  }
 ],
 "metadata": {
  "kernelspec": {
   "display_name": "Python 3 (ipykernel)",
   "language": "python",
   "name": "python3"
  },
  "language_info": {
   "codemirror_mode": {
    "name": "ipython",
    "version": 3
   },
   "file_extension": ".py",
   "mimetype": "text/x-python",
   "name": "python",
   "nbconvert_exporter": "python",
   "pygments_lexer": "ipython3",
   "version": "3.10.8"
  }
 },
 "nbformat": 4,
 "nbformat_minor": 5
}
